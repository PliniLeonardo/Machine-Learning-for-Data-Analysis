{
 "cells": [
  {
   "cell_type": "markdown",
   "metadata": {},
   "source": [
    "# Machine learning for data analysis\n"
   ]
  },
  {
   "cell_type": "markdown",
   "metadata": {},
   "source": [
    "# Week 1: Decision Tree"
   ]
  },
  {
   "cell_type": "code",
   "execution_count": 4,
   "metadata": {},
   "outputs": [],
   "source": [
    "#import libraries\n",
    "import pandas as pd\n",
    "import numpy as np\n",
    "import os\n",
    "import matplotlib.pyplot as plt\n",
    "from sklearn.model_selection import train_test_split\n",
    "from sklearn.tree import DecisionTreeClassifier\n",
    "import sklearn.metrics"
   ]
  },
  {
   "cell_type": "code",
   "execution_count": 5,
   "metadata": {},
   "outputs": [],
   "source": [
    "#load dataset\n",
    "file=pd.read_csv('Alcohol.csv', sep=r'\\s*,\\s*',header=0, encoding='ascii', engine='python')\n",
    "#rename columns\n",
    "df=file[['S2AQ21A','S1Q6A','S3AQ3C1','S3BQ1A6']]\n",
    "df=df.rename(columns={'S2AQ21A':'drinks','S1Q6A':'school','S3AQ3C1':'cigarettes','S3BQ1A6':'drugs'})\n",
    "#clean data\n",
    "df=df.dropna()\n",
    "df.drop(df.index[(df[\"cigarettes\"] == 99)|(df[\"drinks\"] == 99)|(df[\"drugs\"] == 9)],axis=0,inplace=True)"
   ]
  },
  {
   "cell_type": "code",
   "execution_count": 6,
   "metadata": {},
   "outputs": [
    {
     "data": {
      "text/html": [
       "<div>\n",
       "<style scoped>\n",
       "    .dataframe tbody tr th:only-of-type {\n",
       "        vertical-align: middle;\n",
       "    }\n",
       "\n",
       "    .dataframe tbody tr th {\n",
       "        vertical-align: top;\n",
       "    }\n",
       "\n",
       "    .dataframe thead th {\n",
       "        text-align: right;\n",
       "    }\n",
       "</style>\n",
       "<table border=\"1\" class=\"dataframe\">\n",
       "  <thead>\n",
       "    <tr style=\"text-align: right;\">\n",
       "      <th></th>\n",
       "      <th>drinks</th>\n",
       "      <th>school</th>\n",
       "      <th>cigarettes</th>\n",
       "      <th>drugs</th>\n",
       "    </tr>\n",
       "  </thead>\n",
       "  <tbody>\n",
       "    <tr>\n",
       "      <th>count</th>\n",
       "      <td>16325.000000</td>\n",
       "      <td>16325.000000</td>\n",
       "      <td>16325.000000</td>\n",
       "      <td>16325.000000</td>\n",
       "    </tr>\n",
       "    <tr>\n",
       "      <th>mean</th>\n",
       "      <td>4.595345</td>\n",
       "      <td>9.374456</td>\n",
       "      <td>15.691516</td>\n",
       "      <td>1.885942</td>\n",
       "    </tr>\n",
       "    <tr>\n",
       "      <th>std</th>\n",
       "      <td>2.843686</td>\n",
       "      <td>2.287153</td>\n",
       "      <td>12.469562</td>\n",
       "      <td>0.317892</td>\n",
       "    </tr>\n",
       "    <tr>\n",
       "      <th>min</th>\n",
       "      <td>1.000000</td>\n",
       "      <td>1.000000</td>\n",
       "      <td>1.000000</td>\n",
       "      <td>1.000000</td>\n",
       "    </tr>\n",
       "    <tr>\n",
       "      <th>25%</th>\n",
       "      <td>2.000000</td>\n",
       "      <td>8.000000</td>\n",
       "      <td>6.000000</td>\n",
       "      <td>2.000000</td>\n",
       "    </tr>\n",
       "    <tr>\n",
       "      <th>50%</th>\n",
       "      <td>4.000000</td>\n",
       "      <td>10.000000</td>\n",
       "      <td>15.000000</td>\n",
       "      <td>2.000000</td>\n",
       "    </tr>\n",
       "    <tr>\n",
       "      <th>75%</th>\n",
       "      <td>6.000000</td>\n",
       "      <td>11.000000</td>\n",
       "      <td>20.000000</td>\n",
       "      <td>2.000000</td>\n",
       "    </tr>\n",
       "    <tr>\n",
       "      <th>max</th>\n",
       "      <td>10.000000</td>\n",
       "      <td>14.000000</td>\n",
       "      <td>98.000000</td>\n",
       "      <td>2.000000</td>\n",
       "    </tr>\n",
       "  </tbody>\n",
       "</table>\n",
       "</div>"
      ],
      "text/plain": [
       "             drinks        school    cigarettes         drugs\n",
       "count  16325.000000  16325.000000  16325.000000  16325.000000\n",
       "mean       4.595345      9.374456     15.691516      1.885942\n",
       "std        2.843686      2.287153     12.469562      0.317892\n",
       "min        1.000000      1.000000      1.000000      1.000000\n",
       "25%        2.000000      8.000000      6.000000      2.000000\n",
       "50%        4.000000     10.000000     15.000000      2.000000\n",
       "75%        6.000000     11.000000     20.000000      2.000000\n",
       "max       10.000000     14.000000     98.000000      2.000000"
      ]
     },
     "execution_count": 6,
     "metadata": {},
     "output_type": "execute_result"
    }
   ],
   "source": [
    "df.describe()\n"
   ]
  },
  {
   "cell_type": "code",
   "execution_count": 7,
   "metadata": {},
   "outputs": [],
   "source": [
    "#modelling and prediction\n",
    "# RESPONSE     S3BQ1A6 EVER USED COCAINE OR CRACK\n",
    "#S2AQ21A HOW OFTEN DRANK ANY ALCOHOL DURING PERIOD OF HEAVIEST DRINKING\n",
    "#S1Q6A HIGHEST GRADE OR YEAR OF SCHOOL COMPLETED\n",
    "#S3AQ3C1 USUAL QUANTITY WHEN SMOKED CIGARETTES\n",
    "\n",
    "\n",
    "predictors=df[['drinks','school','cigarettes']]\n",
    "target=df.drugs"
   ]
  },
  {
   "cell_type": "code",
   "execution_count": 8,
   "metadata": {},
   "outputs": [
    {
     "name": "stdout",
     "output_type": "stream",
     "text": [
      "(9795, 3) (6530, 3) (9795,) (6530,)\n"
     ]
    }
   ],
   "source": [
    "pred_train,pred_test,tar_train,tar_test=train_test_split(predictors,target,test_size=0.4)\n",
    "print(pred_train.shape,pred_test.shape,tar_train.shape,tar_test.shape)\n"
   ]
  },
  {
   "cell_type": "code",
   "execution_count": 9,
   "metadata": {},
   "outputs": [],
   "source": [
    "#Build model on training dataset\n",
    "classifier=DecisionTreeClassifier()\n",
    "classifier=classifier.fit(pred_train,tar_train)"
   ]
  },
  {
   "cell_type": "code",
   "execution_count": 10,
   "metadata": {},
   "outputs": [],
   "source": [
    "predictions=classifier.predict(pred_test)"
   ]
  },
  {
   "cell_type": "code",
   "execution_count": 11,
   "metadata": {},
   "outputs": [
    {
     "data": {
      "text/plain": [
       "array([[  24,  747],\n",
       "       [ 166, 5593]])"
      ]
     },
     "execution_count": 11,
     "metadata": {},
     "output_type": "execute_result"
    }
   ],
   "source": [
    "sklearn.metrics.confusion_matrix(tar_test,predictions)\n"
   ]
  },
  {
   "cell_type": "code",
   "execution_count": 12,
   "metadata": {},
   "outputs": [
    {
     "name": "stdout",
     "output_type": "stream",
     "text": [
      "% of right prediction\n"
     ]
    },
    {
     "data": {
      "text/plain": [
       "0.8601837672281777"
      ]
     },
     "execution_count": 12,
     "metadata": {},
     "output_type": "execute_result"
    }
   ],
   "source": [
    "print('% of right prediction')\n",
    "sklearn.metrics.accuracy_score(tar_test,predictions)"
   ]
  },
  {
   "cell_type": "code",
   "execution_count": 3,
   "metadata": {},
   "outputs": [
    {
     "name": "stdout",
     "output_type": "stream",
     "text": [
      "the model predict the result with 0.873% of precision thus we can say that the model works well and can classify potential people with drugs problems appropriately.\n"
     ]
    }
   ],
   "source": [
    "print('the model predict the result with 0.873% of precision thus we can say that the model works well and can classify potential people with drugs problems appropriately.')"
   ]
  },
  {
   "cell_type": "code",
   "execution_count": 13,
   "metadata": {},
   "outputs": [],
   "source": [
    "## Display decision Tree\n",
    "#from sklearn import tree\n",
    "#from io import StringIO\n",
    "#from IPython.display import Image\n",
    "#out=StringIO()\n",
    "#tree.export_graphviz(classifier,out_file=out)\n",
    "#import pydotplus\n",
    "#graph=pydotplus.graph_from_dot_data(out.getvalue())\n",
    "#Image(graph.create_png())"
   ]
  },
  {
   "cell_type": "markdown",
   "metadata": {},
   "source": [
    "## Week 2: Random Forest"
   ]
  },
  {
   "cell_type": "code",
   "execution_count": 2,
   "metadata": {},
   "outputs": [],
   "source": [
    "from pandas import Series,DataFrame\n",
    "import pandas as pd\n",
    "import numpy as np\n",
    "import os \n",
    "import matplotlib.pylab as plt\n",
    "from sklearn.model_selection import train_test_split\n",
    "from sklearn.tree import DecisionTreeClassifier\n",
    "from sklearn.metrics import classification_report\n",
    "import sklearn.metrics\n",
    "#feature importance\n",
    "from sklearn import datasets\n",
    "from sklearn.ensemble import ExtraTreesClassifier"
   ]
  },
  {
   "cell_type": "code",
   "execution_count": 10,
   "metadata": {},
   "outputs": [],
   "source": [
    "#load dataset\n",
    "# RESPONSE     S3BQ1A6 EVER USED COCAINE OR CRACK\n",
    "#S2AQ21A HOW OFTEN DRANK ANY ALCOHOL DURING PERIOD OF HEAVIEST DRINKING\n",
    "#S1Q6A HIGHEST GRADE OR YEAR OF SCHOOL COMPLETED\n",
    "#S3AQ3C1 USUAL QUANTITY WHEN SMOKED CIGARETTES\n",
    "#S10Q1B60 EVER TROUBLE YOU OR CAUSE PROBLEMS AT WORK/SCHOOL OR WITH FAMILY/OTHER PEOPLE\n",
    "\n",
    "\n",
    "file=pd.read_csv('Alcohol.csv', sep=r'\\s*,\\s*',header=0, encoding='ascii', engine='python')\n",
    "\n"
   ]
  },
  {
   "cell_type": "code",
   "execution_count": 11,
   "metadata": {},
   "outputs": [],
   "source": [
    "#rename columns\n",
    "df=file[['S2AQ21A','S1Q6A','S3AQ3C1','S3BQ1A6','S10Q1B60']]\n",
    "df=df.rename(columns={'S2AQ21A':'drinks','S1Q6A':'school','S3AQ3C1':'cigarettes','S3BQ1A6':'drugs','S10Q1B60':'trouble'})"
   ]
  },
  {
   "cell_type": "code",
   "execution_count": 12,
   "metadata": {},
   "outputs": [],
   "source": [
    "#clean data\n",
    "df=df.dropna()\n",
    "df.drop(df.index[(df[\"cigarettes\"] == 99)|(df[\"drinks\"] == 99)|(df[\"trouble\"] == 9)|(df[\"drugs\"] == 9)],axis=0,inplace=True)"
   ]
  },
  {
   "cell_type": "code",
   "execution_count": 13,
   "metadata": {},
   "outputs": [],
   "source": [
    "#replace 2 with 0\n",
    "df[\"drugs\"].replace({2: 0}, inplace=True)\n",
    "df[\"trouble\"].replace({2: 0}, inplace=True)\n"
   ]
  },
  {
   "cell_type": "code",
   "execution_count": 14,
   "metadata": {},
   "outputs": [],
   "source": [
    "#predictors and target\n",
    "predictors=df[['drinks','school','cigarettes','trouble']]\n",
    "targets=df.drugs"
   ]
  },
  {
   "cell_type": "code",
   "execution_count": 15,
   "metadata": {},
   "outputs": [],
   "source": [
    "pred_train,pred_test,tar_train,tar_test=train_test_split(predictors,targets,test_size=0.4)"
   ]
  },
  {
   "cell_type": "code",
   "execution_count": 16,
   "metadata": {},
   "outputs": [],
   "source": [
    "#build a model on training dataset\n",
    "from sklearn.ensemble import RandomForestClassifier\n",
    "# n_estimators= number of trees\n",
    "classifier=RandomForestClassifier(n_estimators=25)\n",
    "classifier=classifier.fit(pred_train,tar_train)"
   ]
  },
  {
   "cell_type": "code",
   "execution_count": 17,
   "metadata": {},
   "outputs": [],
   "source": [
    "predictions=classifier.predict(pred_test)"
   ]
  },
  {
   "cell_type": "code",
   "execution_count": 21,
   "metadata": {},
   "outputs": [
    {
     "name": "stdout",
     "output_type": "stream",
     "text": [
      "confusion matrix\n"
     ]
    },
    {
     "data": {
      "text/plain": [
       "array([[5512,   69],\n",
       "       [ 762,   15]])"
      ]
     },
     "execution_count": 21,
     "metadata": {},
     "output_type": "execute_result"
    }
   ],
   "source": [
    "print('confusion matrix')\n",
    "sklearn.metrics.confusion_matrix(tar_test,predictions)"
   ]
  },
  {
   "cell_type": "code",
   "execution_count": 20,
   "metadata": {},
   "outputs": [
    {
     "name": "stdout",
     "output_type": "stream",
     "text": [
      "accurancy score\n"
     ]
    },
    {
     "data": {
      "text/plain": [
       "0.8692985215476565"
      ]
     },
     "execution_count": 20,
     "metadata": {},
     "output_type": "execute_result"
    }
   ],
   "source": [
    "print('accurancy score')\n",
    "sklearn.metrics.accuracy_score(tar_test,predictions)"
   ]
  },
  {
   "cell_type": "code",
   "execution_count": 23,
   "metadata": {},
   "outputs": [
    {
     "name": "stdout",
     "output_type": "stream",
     "text": [
      "relative importance of drinks,school,cigarettes,trouble as classifier\n",
      "[0.2886429  0.22501858 0.44111264 0.04522589]\n"
     ]
    }
   ],
   "source": [
    "#fit an Extra Trees model to the data\n",
    "model=ExtraTreesClassifier()\n",
    "model.fit(pred_train,tar_train)\n",
    "print('relative importance of drinks,school,cigarettes,trouble as classifier')\n",
    "print(model.feature_importances_)"
   ]
  },
  {
   "cell_type": "code",
   "execution_count": 28,
   "metadata": {},
   "outputs": [
    {
     "name": "stdout",
     "output_type": "stream",
     "text": [
      "running a different number of trees and see the effect of that on the accurancy of the prediction\n"
     ]
    },
    {
     "data": {
      "image/png": "[encoded data removed]",
      "text/plain": [
       "<Figure size 432x288 with 1 Axes>"
      ]
     },
     "metadata": {
      "needs_background": "light"
     },
     "output_type": "display_data"
    }
   ],
   "source": [
    "print('running a different number of trees and see the effect of that on the accurancy of the prediction')\n",
    "trees=range(25)\n",
    "accuracy=np.zeros(25)\n",
    "\n",
    "for idx in range(len(trees)):\n",
    "    classifier=RandomForestClassifier(n_estimators=idx+1)\n",
    "    classifier=classifier.fit(pred_train,tar_train)\n",
    "    predictions=classifier.predict(pred_test)\n",
    "    accuracy[idx]=sklearn.metrics.accuracy_score(tar_test,predictions)\n",
    "    \n",
    "plt.cla()\n",
    "plt.plot(trees,accuracy);"
   ]
  },
  {
   "cell_type": "code",
   "execution_count": 29,
   "metadata": {},
   "outputs": [
    {
     "name": "stdout",
     "output_type": "stream",
     "text": [
      "the accuracy is 0.8692985215476565 and the importance of each parameter is [0.2886429  0.22501858 0.44111264 0.04522589]. In the image is confronted the accuracy and the number of trees used\n"
     ]
    }
   ],
   "source": [
    "print('the accuracy is 0.8692985215476565 and the importance of each parameter is [0.2886429  0.22501858 0.44111264 0.04522589]. In the image is confronted the accuracy and the number of trees used')"
   ]
  },
  {
   "cell_type": "markdown",
   "metadata": {},
   "source": [
    "## Week 3: Lasso Regression"
   ]
  },
  {
   "cell_type": "code",
   "execution_count": 31,
   "metadata": {},
   "outputs": [],
   "source": [
    "from sklearn.linear_model import LassoLarsCV"
   ]
  },
  {
   "cell_type": "code",
   "execution_count": 33,
   "metadata": {},
   "outputs": [],
   "source": [
    "#load dataset\n",
    "#  RESPONSE #S3AQ3C1 USUAL QUANTITY WHEN SMOKED CIGARETTES\n",
    "#S3BQ1A6 EVER USED COCAINE OR CRACK\n",
    "#S2AQ21A HOW OFTEN DRANK ANY ALCOHOL DURING PERIOD OF HEAVIEST DRINKING\n",
    "#S1Q6A HIGHEST GRADE OR YEAR OF SCHOOL COMPLETED\n",
    "#S10Q1B60 EVER TROUBLE YOU OR CAUSE PROBLEMS AT WORK/SCHOOL OR WITH FAMILY/OTHER PEOPLE\n",
    "\n",
    "\n",
    "file=pd.read_csv('Alcohol.csv', sep=r'\\s*,\\s*',header=0, encoding='ascii', engine='python')\n"
   ]
  },
  {
   "cell_type": "code",
   "execution_count": 34,
   "metadata": {},
   "outputs": [],
   "source": [
    "#rename columns\n",
    "df=file[['S2AQ21A','S1Q6A','S3AQ3C1','S3BQ1A6','S10Q1B60']]\n",
    "df=df.rename(columns={'S2AQ21A':'drinks','S1Q6A':'school','S3AQ3C1':'cigarettes','S3BQ1A6':'drugs','S10Q1B60':'trouble'})"
   ]
  },
  {
   "cell_type": "code",
   "execution_count": 35,
   "metadata": {},
   "outputs": [],
   "source": [
    "#clean data\n",
    "df=df.dropna()\n",
    "df.drop(df.index[(df[\"cigarettes\"] == 99)|(df[\"drinks\"] == 99)|(df[\"trouble\"] == 9)|(df[\"drugs\"] == 9)],axis=0,inplace=True)"
   ]
  },
  {
   "cell_type": "code",
   "execution_count": 36,
   "metadata": {},
   "outputs": [],
   "source": [
    "#replace 2 with 0\n",
    "df[\"drugs\"].replace({2: 0}, inplace=True)\n",
    "df[\"trouble\"].replace({2: 0}, inplace=True)\n"
   ]
  },
  {
   "cell_type": "code",
   "execution_count": 38,
   "metadata": {},
   "outputs": [],
   "source": [
    "#predictors and target\n",
    "predvar=df[['drinks','school','drugs','trouble']]\n",
    "targets=df.cigarettes"
   ]
  },
  {
   "cell_type": "code",
   "execution_count": 41,
   "metadata": {},
   "outputs": [],
   "source": [
    "# standardize predictors to have mean=0 and sd=1\n",
    "predictors=predvar.copy()\n",
    "from sklearn import preprocessing\n",
    "predictors['drinks']=preprocessing.scale(predictors['drinks'].astype('float64'))\n",
    "predictors['trouble']=preprocessing.scale(predictors['trouble'].astype('float64'))\n",
    "predictors['drugs']=preprocessing.scale(predictors['drugs'].astype('float64'))\n",
    "predictors['school']=preprocessing.scale(predictors['school'].astype('float64'))"
   ]
  },
  {
   "cell_type": "code",
   "execution_count": 42,
   "metadata": {},
   "outputs": [],
   "source": [
    "pred_train,pred_test,tar_train,tar_test=train_test_split(predictors,targets,test_size=0.3,random_state=123)"
   ]
  },
  {
   "cell_type": "code",
   "execution_count": 43,
   "metadata": {},
   "outputs": [],
   "source": [
    "#specify the lassio regression model\n",
    "#cv=10 means that we have 10 folders for crossvalidation\n",
    "model=LassoLarsCV(cv=10,precompute=False).fit(pred_train,tar_train)"
   ]
  },
  {
   "cell_type": "code",
   "execution_count": 45,
   "metadata": {},
   "outputs": [
    {
     "data": {
      "text/plain": [
       "{'drinks': -1.9261595720963074,\n",
       " 'school': -0.8797530745558744,\n",
       " 'drugs': -0.3084884014533245,\n",
       " 'trouble': 0.3378663310945107}"
      ]
     },
     "execution_count": 45,
     "metadata": {},
     "output_type": "execute_result"
    }
   ],
   "source": [
    "#print variable names and regression coefficients\n",
    "dict(zip(predictors.columns,model.coef_))"
   ]
  },
  {
   "cell_type": "code",
   "execution_count": 46,
   "metadata": {},
   "outputs": [
    {
     "name": "stdout",
     "output_type": "stream",
     "text": [
      "the model takes all the variables to predict the result: the number of cigarettes is negative associated with drinks,school level, drugs but positive associated with troubles.The strongest variable is drinks with a coef=-1.92616\n"
     ]
    }
   ],
   "source": [
    "print('the model takes all the variables to predict the result: the number of cigarettes is negative associated with drinks,school level, drugs but positive associated with troubles.The strongest variable is drinks with a coef=-1.92616')"
   ]
  },
  {
   "cell_type": "code",
   "execution_count": 49,
   "metadata": {},
   "outputs": [
    {
     "name": "stdout",
     "output_type": "stream",
     "text": [
      "jdaskdanj \\ kdnand\n"
     ]
    }
   ],
   "source": [
    "print('jdaskdanj \\ kdnand')"
   ]
  },
  {
   "cell_type": "markdown",
   "metadata": {},
   "source": [
    "## Week 4:k-means cluster analysis"
   ]
  },
  {
   "cell_type": "code",
   "execution_count": 88,
   "metadata": {},
   "outputs": [],
   "source": [
    "from sklearn.cluster import KMeans\n"
   ]
  },
  {
   "cell_type": "code",
   "execution_count": 89,
   "metadata": {},
   "outputs": [],
   "source": [
    "#load dataset\n",
    "\n",
    "#  RESPONSE #S3AQ3C1 USUAL QUANTITY WHEN SMOKED CIGARETTES\n",
    "#S3BQ4 NUMBER OF CANNABIS JOINTS USUALLY SMOKED IN A DAY WHEN USING CANNABIS THE MOST\n",
    "#S3BQ1A6 EVER USED COCAINE OR CRACK\n",
    "#S2AQ21A HOW OFTEN DRANK ANY ALCOHOL DURING PERIOD OF HEAVIEST DRINKING\n",
    "#S1Q6A HIGHEST GRADE OR YEAR OF SCHOOL COMPLETED\n",
    "#S10Q1B60 EVER TROUBLE YOU OR CAUSE PROBLEMS AT WORK/SCHOOL OR WITH FAMILY/OTHER PEOPLE\n",
    "\n",
    "\n",
    "file=pd.read_csv('Alcohol.csv', sep=r'\\s*,\\s*',header=0, encoding='ascii', engine='python')\n"
   ]
  },
  {
   "cell_type": "code",
   "execution_count": 90,
   "metadata": {},
   "outputs": [],
   "source": [
    "#rename columns\n",
    "df=file[['S2AQ21A','S3AQ3C1','S3BQ1A6','S10Q1B60','S3BQ4']]\n",
    "df=df.rename(columns={'S2AQ21A':'drinks','S3AQ3C1':'cigarettes','S3BQ1A6':'drugs','S10Q1B60':'trouble','S3BQ4':'joints'})\n"
   ]
  },
  {
   "cell_type": "code",
   "execution_count": 91,
   "metadata": {},
   "outputs": [],
   "source": [
    "#clean data\n",
    "df=df.dropna()\n",
    "df.drop(df.index[(df[\"cigarettes\"] == 99)|(df[\"drinks\"] == 99)|(df[\"joints\"] == 99)|(df[\"trouble\"] == 9)|(df[\"drugs\"] == 9)],axis=0,inplace=True)"
   ]
  },
  {
   "cell_type": "code",
   "execution_count": 92,
   "metadata": {},
   "outputs": [],
   "source": [
    "#replace 2 with 0\n",
    "df[\"drugs\"].replace({2: 0}, inplace=True)\n",
    "df[\"trouble\"].replace({2: 0}, inplace=True)\n"
   ]
  },
  {
   "cell_type": "code",
   "execution_count": 93,
   "metadata": {},
   "outputs": [
    {
     "data": {
      "text/html": [
       "<div>\n",
       "<style scoped>\n",
       "    .dataframe tbody tr th:only-of-type {\n",
       "        vertical-align: middle;\n",
       "    }\n",
       "\n",
       "    .dataframe tbody tr th {\n",
       "        vertical-align: top;\n",
       "    }\n",
       "\n",
       "    .dataframe thead th {\n",
       "        text-align: right;\n",
       "    }\n",
       "</style>\n",
       "<table border=\"1\" class=\"dataframe\">\n",
       "  <thead>\n",
       "    <tr style=\"text-align: right;\">\n",
       "      <th></th>\n",
       "      <th>drinks</th>\n",
       "      <th>drugs</th>\n",
       "      <th>trouble</th>\n",
       "      <th>joints</th>\n",
       "    </tr>\n",
       "  </thead>\n",
       "  <tbody>\n",
       "    <tr>\n",
       "      <th>count</th>\n",
       "      <td>4994.000000</td>\n",
       "      <td>4994.000000</td>\n",
       "      <td>4994.000000</td>\n",
       "      <td>4994.000000</td>\n",
       "    </tr>\n",
       "    <tr>\n",
       "      <th>mean</th>\n",
       "      <td>3.638767</td>\n",
       "      <td>0.334401</td>\n",
       "      <td>0.015419</td>\n",
       "      <td>2.362835</td>\n",
       "    </tr>\n",
       "    <tr>\n",
       "      <th>std</th>\n",
       "      <td>2.360056</td>\n",
       "      <td>0.471828</td>\n",
       "      <td>0.123223</td>\n",
       "      <td>3.661157</td>\n",
       "    </tr>\n",
       "    <tr>\n",
       "      <th>min</th>\n",
       "      <td>1.000000</td>\n",
       "      <td>0.000000</td>\n",
       "      <td>0.000000</td>\n",
       "      <td>1.000000</td>\n",
       "    </tr>\n",
       "    <tr>\n",
       "      <th>25%</th>\n",
       "      <td>2.000000</td>\n",
       "      <td>0.000000</td>\n",
       "      <td>0.000000</td>\n",
       "      <td>1.000000</td>\n",
       "    </tr>\n",
       "    <tr>\n",
       "      <th>50%</th>\n",
       "      <td>3.000000</td>\n",
       "      <td>0.000000</td>\n",
       "      <td>0.000000</td>\n",
       "      <td>1.000000</td>\n",
       "    </tr>\n",
       "    <tr>\n",
       "      <th>75%</th>\n",
       "      <td>5.000000</td>\n",
       "      <td>1.000000</td>\n",
       "      <td>0.000000</td>\n",
       "      <td>2.000000</td>\n",
       "    </tr>\n",
       "    <tr>\n",
       "      <th>max</th>\n",
       "      <td>10.000000</td>\n",
       "      <td>1.000000</td>\n",
       "      <td>1.000000</td>\n",
       "      <td>98.000000</td>\n",
       "    </tr>\n",
       "  </tbody>\n",
       "</table>\n",
       "</div>"
      ],
      "text/plain": [
       "            drinks        drugs      trouble       joints\n",
       "count  4994.000000  4994.000000  4994.000000  4994.000000\n",
       "mean      3.638767     0.334401     0.015419     2.362835\n",
       "std       2.360056     0.471828     0.123223     3.661157\n",
       "min       1.000000     0.000000     0.000000     1.000000\n",
       "25%       2.000000     0.000000     0.000000     1.000000\n",
       "50%       3.000000     0.000000     0.000000     1.000000\n",
       "75%       5.000000     1.000000     0.000000     2.000000\n",
       "max      10.000000     1.000000     1.000000    98.000000"
      ]
     },
     "execution_count": 93,
     "metadata": {},
     "output_type": "execute_result"
    }
   ],
   "source": [
    "#subset clustering variables\n",
    "cluster=df[['drinks','drugs','trouble','joints']]\n",
    "cluster.describe()"
   ]
  },
  {
   "cell_type": "code",
   "execution_count": 94,
   "metadata": {},
   "outputs": [],
   "source": [
    "# standardize predictors to have mean=0 and sd=1\n",
    "clustervar=cluster.copy()\n",
    "from sklearn import preprocessing\n",
    "clustervar['drinks']=preprocessing.scale(clustervar['drinks'].astype('float64'))\n",
    "clustervar['trouble']=preprocessing.scale(clustervar['trouble'].astype('float64'))\n",
    "clustervar['drugs']=preprocessing.scale(clustervar['drugs'].astype('float64'))\n",
    "clustervar['joints']=preprocessing.scale(clustervar['joints'].astype('float64'))"
   ]
  },
  {
   "cell_type": "code",
   "execution_count": 95,
   "metadata": {},
   "outputs": [],
   "source": [
    "#split \n",
    "clus_train,clus_test=train_test_split(clustervar,test_size=0.3,random_state=123)\n",
    "#k-means cluster analysis for 1-9 clusters\n",
    "from scipy.spatial.distance import cdist\n",
    "clusters=range(1,10)\n",
    "meandist=[]\n",
    "\n",
    "for k in clusters:\n",
    "    model=KMeans(n_clusters=k)\n",
    "    model.fit(clus_train)\n",
    "    clusassign=model.predict(clus_train)\n",
    "    meandist.append(sum(np.min(cdist(clus_train,model.cluster_centers_,'euclidean'),axis=1))/clus_train.shape[0])\n"
   ]
  },
  {
   "cell_type": "code",
   "execution_count": 96,
   "metadata": {},
   "outputs": [
    {
     "name": "stdout",
     "output_type": "stream",
     "text": [
      "average distance from observations from cluster centroid \n"
     ]
    },
    {
     "data": {
      "image/png": "[encoded data removed]",
      "text/plain": [
       "<Figure size 432x288 with 1 Axes>"
      ]
     },
     "metadata": {
      "needs_background": "light"
     },
     "output_type": "display_data"
    }
   ],
   "source": [
    "print('average distance from observations from cluster centroid ')\n",
    "plt.plot(clusters,meandist);"
   ]
  },
  {
   "cell_type": "code",
   "execution_count": 97,
   "metadata": {},
   "outputs": [],
   "source": [
    "#interpret 3 cluster solution\n",
    "model3=KMeans(n_clusters=3)\n",
    "model3.fit(clus_train)\n",
    "clusassign=model3.predict(clus_train)"
   ]
  },
  {
   "cell_type": "code",
   "execution_count": 109,
   "metadata": {},
   "outputs": [
    {
     "data": {
      "image/png": "[encoded data removed]",
      "text/plain": [
       "<Figure size 432x288 with 1 Axes>"
      ]
     },
     "metadata": {
      "needs_background": "light"
     },
     "output_type": "display_data"
    }
   ],
   "source": [
    "from sklearn.decomposition import PCA\n",
    "pca_2=PCA(2)\n",
    "plot_columns=pca_2.fit_transform(clus_train)\n",
    "plt.scatter(x=plot_columns[:,0],y=plot_columns[:,1],c=model3.labels_,)\n",
    "plt.title('scatterplot of canonical variables for 3 clusters')\n",
    "plt.show()"
   ]
  },
  {
   "cell_type": "code",
   "execution_count": 98,
   "metadata": {},
   "outputs": [],
   "source": [
    "\n",
    "\"\"\"\n",
    "BEGIN multiple steps to merge cluster assignment with clustering variables to examine\n",
    "cluster variable means by cluster\n",
    "\"\"\"\n",
    "# create a unique identifier variable from the index for the \n",
    "# cluster training data to merge with the cluster assignment variable\n",
    "clus_train.reset_index(level=0, inplace=True)\n",
    "# create a list that has the new index variable\n",
    "cluslist=list(clus_train['index'])\n",
    "# create a list of cluster assignments\n",
    "labels=list(model3.labels_)\n",
    "# combine index variable list with cluster assignment list into a dictionary\n",
    "newlist=dict(zip(cluslist, labels))\n",
    "newlist\n",
    "# convert newlist dictionary to a dataframe\n",
    "newclus=DataFrame.from_dict(newlist, orient='index')\n",
    "newclus\n",
    "# rename the cluster assignment column\n",
    "newclus.columns = ['cluster']"
   ]
  },
  {
   "cell_type": "code",
   "execution_count": 99,
   "metadata": {},
   "outputs": [
    {
     "data": {
      "text/plain": [
       "1    2275\n",
       "0    1165\n",
       "2      55\n",
       "Name: cluster, dtype: int64"
      ]
     },
     "execution_count": 99,
     "metadata": {},
     "output_type": "execute_result"
    }
   ],
   "source": [
    "# now do the same for the cluster assignment variable\n",
    "# create a unique identifier variable from the index for the \n",
    "# cluster assignment dataframe \n",
    "# to merge with cluster training data\n",
    "newclus.reset_index(level=0, inplace=True)\n",
    "# merge the cluster assignment dataframe with the cluster training variable dataframe\n",
    "# by the index variable\n",
    "merged_train=pd.merge(clus_train, newclus, on='index')\n",
    "merged_train.head(n=100)\n",
    "# cluster frequencies\n",
    "merged_train.cluster.value_counts()\n"
   ]
  },
  {
   "cell_type": "code",
   "execution_count": 100,
   "metadata": {},
   "outputs": [
    {
     "name": "stdout",
     "output_type": "stream",
     "text": [
      "Clustering variable means by cluster\n",
      "                index    drinks     drugs   trouble    joints\n",
      "cluster                                                      \n",
      "0        22052.266094 -0.261227  1.388989 -0.125140  0.365149\n",
      "1        21113.501099  0.150096 -0.708807 -0.125140 -0.196493\n",
      "2        20754.763636 -0.378551  0.640048  7.991066  0.839580\n"
     ]
    }
   ],
   "source": [
    "\"\"\"\n",
    "END multiple steps to merge cluster assignment with clustering variables to examine\n",
    "cluster variable means by cluster\n",
    "\"\"\"\n",
    "\n",
    "# FINALLY calculate clustering variable means by cluster\n",
    "clustergrp = merged_train.groupby('cluster').mean()\n",
    "print (\"Clustering variable means by cluster\")\n",
    "print(clustergrp)\n"
   ]
  },
  {
   "cell_type": "code",
   "execution_count": 101,
   "metadata": {},
   "outputs": [],
   "source": [
    "# validate clusters in training data by examining cluster differences in GPA using ANOVA\n",
    "# first have to merge GPA with clustering variables and cluster assignment data \n",
    "gpa_data=df['cigarettes']\n",
    "# split GPA data into train and test sets\n",
    "gpa_train, gpa_test = train_test_split(gpa_data, test_size=.3, random_state=123)\n",
    "gpa_train1=pd.DataFrame(gpa_train)\n",
    "gpa_train1.reset_index(level=0, inplace=True)\n",
    "merged_train_all=pd.merge(gpa_train1, merged_train, on='index')\n",
    "sub1 = merged_train_all[['cigarettes', 'cluster']].dropna()\n"
   ]
  },
  {
   "cell_type": "code",
   "execution_count": 103,
   "metadata": {},
   "outputs": [
    {
     "name": "stdout",
     "output_type": "stream",
     "text": [
      "                            OLS Regression Results                            \n",
      "==============================================================================\n",
      "Dep. Variable:             cigarettes   R-squared:                       0.024\n",
      "Model:                            OLS   Adj. R-squared:                  0.023\n",
      "Method:                 Least Squares   F-statistic:                     30.65\n",
      "Date:                Thu, 18 Feb 2021   Prob (F-statistic):           3.03e-25\n",
      "Time:                        17:59:10   Log-Likelihood:                -19286.\n",
      "No. Observations:                4994   AIC:                         3.858e+04\n",
      "Df Residuals:                    4989   BIC:                         3.861e+04\n",
      "Df Model:                           4                                         \n",
      "Covariance Type:            nonrobust                                         \n",
      "==============================================================================\n",
      "                 coef    std err          t      P>|t|      [0.025      0.975]\n",
      "------------------------------------------------------------------------------\n",
      "Intercept     17.2907      0.360     48.010      0.000      16.585      17.997\n",
      "cluster[0]    -0.6611      0.071     -9.359      0.000      -0.800      -0.523\n",
      "cluster[1]    -0.0176      0.357     -0.049      0.961      -0.718       0.683\n",
      "cluster[2]     2.2999      1.331      1.728      0.084      -0.310       4.910\n",
      "cluster[3]     0.1725      0.046      3.769      0.000       0.083       0.262\n",
      "==============================================================================\n",
      "Omnibus:                     1502.150   Durbin-Watson:                   2.000\n",
      "Prob(Omnibus):                  0.000   Jarque-Bera (JB):             5488.720\n",
      "Skew:                           1.473   Prob(JB):                         0.00\n",
      "Kurtosis:                       7.207   Cond. No.                         42.6\n",
      "==============================================================================\n",
      "\n",
      "Notes:\n",
      "[1] Standard Errors assume that the covariance matrix of the errors is correctly specified.\n"
     ]
    }
   ],
   "source": [
    "import statsmodels.formula.api as smf\n",
    "import statsmodels.stats.multicomp as multi \n",
    "\n",
    "gpamod = smf.ols(formula='cigarettes ~ (cluster)', data=df).fit()\n",
    "print (gpamod.summary())"
   ]
  },
  {
   "cell_type": "code",
   "execution_count": 104,
   "metadata": {},
   "outputs": [
    {
     "name": "stdout",
     "output_type": "stream",
     "text": [
      "means for GPA by cluster\n",
      "         cigarettes\n",
      "cluster            \n",
      "0         15.877253\n",
      "1         14.977582\n",
      "2         17.818182\n"
     ]
    }
   ],
   "source": [
    "print ('means for GPA by cluster')\n",
    "m1= sub1.groupby('cluster').mean()\n",
    "print (m1)\n"
   ]
  },
  {
   "cell_type": "code",
   "execution_count": 105,
   "metadata": {},
   "outputs": [
    {
     "name": "stdout",
     "output_type": "stream",
     "text": [
      "standard deviations for GPA by cluster\n",
      "         cigarettes\n",
      "cluster            \n",
      "0         11.385296\n",
      "1         11.666501\n",
      "2         12.180876\n"
     ]
    }
   ],
   "source": [
    "print ('standard deviations for GPA by cluster')\n",
    "m2= sub1.groupby('cluster').std()\n",
    "print (m2)"
   ]
  },
  {
   "cell_type": "code",
   "execution_count": 107,
   "metadata": {},
   "outputs": [
    {
     "name": "stdout",
     "output_type": "stream",
     "text": [
      "Multiple Comparison of Means - Tukey HSD, FWER=0.05\n",
      "===================================================\n",
      "group1 group2 meandiff p-adj   lower  upper  reject\n",
      "---------------------------------------------------\n",
      "     0      1  -0.8997 0.0791  -1.878 0.0787  False\n",
      "     0      2   1.9409 0.4465 -1.8062 5.6881  False\n",
      "     1      2   2.8406 0.1708 -0.8651 6.5463  False\n",
      "---------------------------------------------------\n"
     ]
    }
   ],
   "source": [
    "mc1 = multi.MultiComparison(sub1['cigarettes'], sub1['cluster'])\n",
    "res1 = mc1.tukeyhsd()\n",
    "print(res1.summary())"
   ]
  },
  {
   "cell_type": "code",
   "execution_count": null,
   "metadata": {},
   "outputs": [],
   "source": [
    "A k-means cluster analysis was conducted to identify underlying subgroups of people based on their similarity of\n",
    "responses on 4 variables that represent characteristics that could have an impact smoking cigarettes. \n",
    "Clustering variables included two binary variables measuring whether or not the adolescent had ever used drugs\n",
    "or had made some troubles, as well as quantitative variables measuring alcohol problems and joints of marijuana smoked.\n",
    "All clustering variables were standardized to have a mean of 0 and a standard deviation of 1. \n",
    "\n",
    "Data were randomly split into a training set that included 70% of the observations (N=3496) and a test set that\n",
    "included 30% of the observations (N=1498). A series of k-means cluster analyses were conducted on the training \n",
    "data specifying k=1-9 clusters, using Euclidean distance. The variance in the clustering variables that was accounted\n",
    "for by the clusters (r-square) was plotted for each of the nine cluster solutions in an elbow curve to provide \n",
    "guidance for choosing the number of clusters to interpret.  \n",
    "\n",
    "The elbow curve was inconclusive, suggesting that the 2, 4 and 8-cluster solutions might be interpreted.\n",
    "The results below are for an interpretation of the 3-cluster solution.  \n",
    "Canonical discriminant analyses was used to reduce the 4 clustering variable down a few variables that accounted \n",
    "for most of the variance in the clustering variables.  Clusters were generally distinct.\n",
    "\n",
    "The means on the clustering variables showed that, compared to the other clusters, people in cluster 3 had\n",
    "big levels on the clustering variables. They had a relatively big likelihood of using drugs or marijuana and\n",
    "to make troubles but they do not use to drink . On the other hand, cluster 1 clearly \n",
    "included the most quiet people. \n"
   ]
  },
  {
   "cell_type": "code",
   "execution_count": null,
   "metadata": {},
   "outputs": [],
   "source": []
  }
 ],
 "metadata": {
  "kernelspec": {
   "display_name": "Python 3",
   "language": "python",
   "name": "python3"
  },
  "language_info": {
   "codemirror_mode": {
    "name": "ipython",
    "version": 3
   },
   "file_extension": ".py",
   "mimetype": "text/x-python",
   "name": "python",
   "nbconvert_exporter": "python",
   "pygments_lexer": "ipython3",
   "version": "3.8.5"
  }
 },
 "nbformat": 4,
 "nbformat_minor": 4
}
