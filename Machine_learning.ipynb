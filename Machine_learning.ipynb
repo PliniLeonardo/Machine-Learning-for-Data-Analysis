{
 "cells": [
  {
   "cell_type": "markdown",
   "metadata": {},
   "source": [
    "# Machine learning for data analysis\n"
   ]
  },
  {
   "cell_type": "markdown",
   "metadata": {},
   "source": [
    "# Week 1"
   ]
  },
  {
   "cell_type": "code",
   "execution_count": 1,
   "metadata": {},
   "outputs": [],
   "source": [
    "#import libraries\n",
    "import pandas as pd\n",
    "import numpy as np\n",
    "import os\n",
    "import matplotlib.pyplot as plt\n",
    "from sklearn.model_selection import train_test_split\n",
    "from sklearn.tree import DecisionTreeClassifier\n",
    "import sklearn.metrics"
   ]
  },
  {
   "cell_type": "code",
   "execution_count": 20,
   "metadata": {},
   "outputs": [],
   "source": [
    "#load dataset\n",
    "file=pd.read_csv('Alcohol.csv', sep=r'\\s*,\\s*',header=0, encoding='ascii', engine='python')\n",
    "#rename columns\n",
    "df=file[['S2AQ21A','S1Q6A','S3AQ3C1','S3BQ1A6']]\n",
    "df=df.rename(columns={'S2AQ21A':'drinks','S1Q6A':'school','S3AQ3C1':'cigarettes','S3BQ1A6':'drugs',})\n",
    "#clean data\n",
    "df=df.dropna()\n",
    "df.drop(df.index[(df[\"cigarettes\"] == 99)|(df[\"drinks\"] == 99)|(df[\"drugs\"] == 9)],axis=0,inplace=True)"
   ]
  },
  {
   "cell_type": "code",
   "execution_count": 21,
   "metadata": {},
   "outputs": [
    {
     "data": {
      "text/html": [
       "<div>\n",
       "<style scoped>\n",
       "    .dataframe tbody tr th:only-of-type {\n",
       "        vertical-align: middle;\n",
       "    }\n",
       "\n",
       "    .dataframe tbody tr th {\n",
       "        vertical-align: top;\n",
       "    }\n",
       "\n",
       "    .dataframe thead th {\n",
       "        text-align: right;\n",
       "    }\n",
       "</style>\n",
       "<table border=\"1\" class=\"dataframe\">\n",
       "  <thead>\n",
       "    <tr style=\"text-align: right;\">\n",
       "      <th></th>\n",
       "      <th>drinks</th>\n",
       "      <th>school</th>\n",
       "      <th>cigarettes</th>\n",
       "      <th>drugs</th>\n",
       "    </tr>\n",
       "  </thead>\n",
       "  <tbody>\n",
       "    <tr>\n",
       "      <th>count</th>\n",
       "      <td>16325.000000</td>\n",
       "      <td>16325.000000</td>\n",
       "      <td>16325.000000</td>\n",
       "      <td>16325.000000</td>\n",
       "    </tr>\n",
       "    <tr>\n",
       "      <th>mean</th>\n",
       "      <td>4.595345</td>\n",
       "      <td>9.374456</td>\n",
       "      <td>15.691516</td>\n",
       "      <td>1.885942</td>\n",
       "    </tr>\n",
       "    <tr>\n",
       "      <th>std</th>\n",
       "      <td>2.843686</td>\n",
       "      <td>2.287153</td>\n",
       "      <td>12.469562</td>\n",
       "      <td>0.317892</td>\n",
       "    </tr>\n",
       "    <tr>\n",
       "      <th>min</th>\n",
       "      <td>1.000000</td>\n",
       "      <td>1.000000</td>\n",
       "      <td>1.000000</td>\n",
       "      <td>1.000000</td>\n",
       "    </tr>\n",
       "    <tr>\n",
       "      <th>25%</th>\n",
       "      <td>2.000000</td>\n",
       "      <td>8.000000</td>\n",
       "      <td>6.000000</td>\n",
       "      <td>2.000000</td>\n",
       "    </tr>\n",
       "    <tr>\n",
       "      <th>50%</th>\n",
       "      <td>4.000000</td>\n",
       "      <td>10.000000</td>\n",
       "      <td>15.000000</td>\n",
       "      <td>2.000000</td>\n",
       "    </tr>\n",
       "    <tr>\n",
       "      <th>75%</th>\n",
       "      <td>6.000000</td>\n",
       "      <td>11.000000</td>\n",
       "      <td>20.000000</td>\n",
       "      <td>2.000000</td>\n",
       "    </tr>\n",
       "    <tr>\n",
       "      <th>max</th>\n",
       "      <td>10.000000</td>\n",
       "      <td>14.000000</td>\n",
       "      <td>98.000000</td>\n",
       "      <td>2.000000</td>\n",
       "    </tr>\n",
       "  </tbody>\n",
       "</table>\n",
       "</div>"
      ],
      "text/plain": [
       "             drinks        school    cigarettes         drugs\n",
       "count  16325.000000  16325.000000  16325.000000  16325.000000\n",
       "mean       4.595345      9.374456     15.691516      1.885942\n",
       "std        2.843686      2.287153     12.469562      0.317892\n",
       "min        1.000000      1.000000      1.000000      1.000000\n",
       "25%        2.000000      8.000000      6.000000      2.000000\n",
       "50%        4.000000     10.000000     15.000000      2.000000\n",
       "75%        6.000000     11.000000     20.000000      2.000000\n",
       "max       10.000000     14.000000     98.000000      2.000000"
      ]
     },
     "execution_count": 21,
     "metadata": {},
     "output_type": "execute_result"
    }
   ],
   "source": [
    "df.describe()\n"
   ]
  },
  {
   "cell_type": "code",
   "execution_count": 22,
   "metadata": {},
   "outputs": [],
   "source": [
    "#modelling and prediction\n",
    "# RESPONSE     S3BQ1A6 EVER USED COCAINE OR CRACK\n",
    "#S2AQ21A HOW OFTEN DRANK ANY ALCOHOL DURING PERIOD OF HEAVIEST DRINKING\n",
    "#S1Q6A HIGHEST GRADE OR YEAR OF SCHOOL COMPLETED\n",
    "#S3AQ3C1 USUAL QUANTITY WHEN SMOKED CIGARETTES\n",
    "\n",
    "\n",
    "predictors=df[['drinks','school','cigarettes']]\n",
    "target=df.drugs"
   ]
  },
  {
   "cell_type": "code",
   "execution_count": 23,
   "metadata": {},
   "outputs": [
    {
     "name": "stdout",
     "output_type": "stream",
     "text": [
      "(9795, 3) (6530, 3) (9795,) (6530,)\n"
     ]
    }
   ],
   "source": [
    "pred_train,pred_test,tar_train,tar_test=train_test_split(predictors,target,test_size=0.4)\n",
    "print(pred_train.shape,pred_test.shape,tar_train.shape,tar_test.shape)\n"
   ]
  },
  {
   "cell_type": "code",
   "execution_count": 24,
   "metadata": {},
   "outputs": [],
   "source": [
    "#Build model on training dataset\n",
    "classifier=DecisionTreeClassifier()\n",
    "classifier=classifier.fit(pred_train,tar_train)"
   ]
  },
  {
   "cell_type": "code",
   "execution_count": 25,
   "metadata": {},
   "outputs": [],
   "source": [
    "predictions=classifier.predict(pred_test)"
   ]
  },
  {
   "cell_type": "code",
   "execution_count": 26,
   "metadata": {},
   "outputs": [
    {
     "data": {
      "text/plain": [
       "array([[  20,  709],\n",
       "       [ 120, 5681]])"
      ]
     },
     "execution_count": 26,
     "metadata": {},
     "output_type": "execute_result"
    }
   ],
   "source": [
    "sklearn.metrics.confusion_matrix(tar_test,predictions)\n"
   ]
  },
  {
   "cell_type": "code",
   "execution_count": 27,
   "metadata": {},
   "outputs": [
    {
     "name": "stdout",
     "output_type": "stream",
     "text": [
      "% of right prediction\n"
     ]
    },
    {
     "data": {
      "text/plain": [
       "0.8730474732006126"
      ]
     },
     "execution_count": 27,
     "metadata": {},
     "output_type": "execute_result"
    }
   ],
   "source": [
    "print('% of right prediction')\n",
    "sklearn.metrics.accuracy_score(tar_test,predictions)"
   ]
  },
  {
   "cell_type": "code",
   "execution_count": null,
   "metadata": {},
   "outputs": [],
   "source": [
    "the model predict the result with 0.873% of precision thus we can say that the model works well \n",
    "and can classify potential people with drugs problems appropriately."
   ]
  },
  {
   "cell_type": "code",
   "execution_count": 18,
   "metadata": {},
   "outputs": [],
   "source": [
    "## Display decision Tree\n",
    "#from sklearn import tree\n",
    "#from io import StringIO\n",
    "#from IPython.display import Image\n",
    "#out=StringIO()\n",
    "#tree.export_graphviz(classifier,out_file=out)\n",
    "#import pydotplus\n",
    "#graph=pydotplus.graph_from_dot_data(out.getvalue())\n",
    "#Image(graph.create_png())"
   ]
  },
  {
   "cell_type": "code",
   "execution_count": null,
   "metadata": {},
   "outputs": [],
   "source": []
  }
 ],
 "metadata": {
  "kernelspec": {
   "display_name": "Python 3",
   "language": "python",
   "name": "python3"
  },
  "language_info": {
   "codemirror_mode": {
    "name": "ipython",
    "version": 3
   },
   "file_extension": ".py",
   "mimetype": "text/x-python",
   "name": "python",
   "nbconvert_exporter": "python",
   "pygments_lexer": "ipython3",
   "version": "3.8.5"
  }
 },
 "nbformat": 4,
 "nbformat_minor": 4
}
