{
 "cells": [
  {
   "cell_type": "markdown",
   "metadata": {},
   "source": [
    "# Machine learning for data analysis\n"
   ]
  },
  {
   "cell_type": "markdown",
   "metadata": {},
   "source": [
    "# Week 1"
   ]
  },
  {
   "cell_type": "code",
   "execution_count": 4,
   "metadata": {},
   "outputs": [],
   "source": [
    "#import libraries\n",
    "import pandas as pd\n",
    "import numpy as np\n",
    "import os\n",
    "import matplotlib.pyplot as plt\n",
    "from sklearn.model_selection import train_test_split\n",
    "from sklearn.tree import DecisionTreeClassifier\n",
    "import sklearn.metrics"
   ]
  },
  {
   "cell_type": "code",
   "execution_count": 5,
   "metadata": {},
   "outputs": [],
   "source": [
    "#load dataset\n",
    "file=pd.read_csv('Alcohol.csv', sep=r'\\s*,\\s*',header=0, encoding='ascii', engine='python')\n",
    "#rename columns\n",
    "df=file[['S2AQ21A','S1Q6A','S3AQ3C1','S3BQ1A6']]\n",
    "df=df.rename(columns={'S2AQ21A':'drinks','S1Q6A':'school','S3AQ3C1':'cigarettes','S3BQ1A6':'drugs'})\n",
    "#clean data\n",
    "df=df.dropna()\n",
    "df.drop(df.index[(df[\"cigarettes\"] == 99)|(df[\"drinks\"] == 99)|(df[\"drugs\"] == 9)],axis=0,inplace=True)"
   ]
  },
  {
   "cell_type": "code",
   "execution_count": 6,
   "metadata": {},
   "outputs": [
    {
     "data": {
      "text/html": [
       "<div>\n",
       "<style scoped>\n",
       "    .dataframe tbody tr th:only-of-type {\n",
       "        vertical-align: middle;\n",
       "    }\n",
       "\n",
       "    .dataframe tbody tr th {\n",
       "        vertical-align: top;\n",
       "    }\n",
       "\n",
       "    .dataframe thead th {\n",
       "        text-align: right;\n",
       "    }\n",
       "</style>\n",
       "<table border=\"1\" class=\"dataframe\">\n",
       "  <thead>\n",
       "    <tr style=\"text-align: right;\">\n",
       "      <th></th>\n",
       "      <th>drinks</th>\n",
       "      <th>school</th>\n",
       "      <th>cigarettes</th>\n",
       "      <th>drugs</th>\n",
       "    </tr>\n",
       "  </thead>\n",
       "  <tbody>\n",
       "    <tr>\n",
       "      <th>count</th>\n",
       "      <td>16325.000000</td>\n",
       "      <td>16325.000000</td>\n",
       "      <td>16325.000000</td>\n",
       "      <td>16325.000000</td>\n",
       "    </tr>\n",
       "    <tr>\n",
       "      <th>mean</th>\n",
       "      <td>4.595345</td>\n",
       "      <td>9.374456</td>\n",
       "      <td>15.691516</td>\n",
       "      <td>1.885942</td>\n",
       "    </tr>\n",
       "    <tr>\n",
       "      <th>std</th>\n",
       "      <td>2.843686</td>\n",
       "      <td>2.287153</td>\n",
       "      <td>12.469562</td>\n",
       "      <td>0.317892</td>\n",
       "    </tr>\n",
       "    <tr>\n",
       "      <th>min</th>\n",
       "      <td>1.000000</td>\n",
       "      <td>1.000000</td>\n",
       "      <td>1.000000</td>\n",
       "      <td>1.000000</td>\n",
       "    </tr>\n",
       "    <tr>\n",
       "      <th>25%</th>\n",
       "      <td>2.000000</td>\n",
       "      <td>8.000000</td>\n",
       "      <td>6.000000</td>\n",
       "      <td>2.000000</td>\n",
       "    </tr>\n",
       "    <tr>\n",
       "      <th>50%</th>\n",
       "      <td>4.000000</td>\n",
       "      <td>10.000000</td>\n",
       "      <td>15.000000</td>\n",
       "      <td>2.000000</td>\n",
       "    </tr>\n",
       "    <tr>\n",
       "      <th>75%</th>\n",
       "      <td>6.000000</td>\n",
       "      <td>11.000000</td>\n",
       "      <td>20.000000</td>\n",
       "      <td>2.000000</td>\n",
       "    </tr>\n",
       "    <tr>\n",
       "      <th>max</th>\n",
       "      <td>10.000000</td>\n",
       "      <td>14.000000</td>\n",
       "      <td>98.000000</td>\n",
       "      <td>2.000000</td>\n",
       "    </tr>\n",
       "  </tbody>\n",
       "</table>\n",
       "</div>"
      ],
      "text/plain": [
       "             drinks        school    cigarettes         drugs\n",
       "count  16325.000000  16325.000000  16325.000000  16325.000000\n",
       "mean       4.595345      9.374456     15.691516      1.885942\n",
       "std        2.843686      2.287153     12.469562      0.317892\n",
       "min        1.000000      1.000000      1.000000      1.000000\n",
       "25%        2.000000      8.000000      6.000000      2.000000\n",
       "50%        4.000000     10.000000     15.000000      2.000000\n",
       "75%        6.000000     11.000000     20.000000      2.000000\n",
       "max       10.000000     14.000000     98.000000      2.000000"
      ]
     },
     "execution_count": 6,
     "metadata": {},
     "output_type": "execute_result"
    }
   ],
   "source": [
    "df.describe()\n"
   ]
  },
  {
   "cell_type": "code",
   "execution_count": 7,
   "metadata": {},
   "outputs": [],
   "source": [
    "#modelling and prediction\n",
    "# RESPONSE     S3BQ1A6 EVER USED COCAINE OR CRACK\n",
    "#S2AQ21A HOW OFTEN DRANK ANY ALCOHOL DURING PERIOD OF HEAVIEST DRINKING\n",
    "#S1Q6A HIGHEST GRADE OR YEAR OF SCHOOL COMPLETED\n",
    "#S3AQ3C1 USUAL QUANTITY WHEN SMOKED CIGARETTES\n",
    "\n",
    "\n",
    "predictors=df[['drinks','school','cigarettes']]\n",
    "target=df.drugs"
   ]
  },
  {
   "cell_type": "code",
   "execution_count": 8,
   "metadata": {},
   "outputs": [
    {
     "name": "stdout",
     "output_type": "stream",
     "text": [
      "(9795, 3) (6530, 3) (9795,) (6530,)\n"
     ]
    }
   ],
   "source": [
    "pred_train,pred_test,tar_train,tar_test=train_test_split(predictors,target,test_size=0.4)\n",
    "print(pred_train.shape,pred_test.shape,tar_train.shape,tar_test.shape)\n"
   ]
  },
  {
   "cell_type": "code",
   "execution_count": 9,
   "metadata": {},
   "outputs": [],
   "source": [
    "#Build model on training dataset\n",
    "classifier=DecisionTreeClassifier()\n",
    "classifier=classifier.fit(pred_train,tar_train)"
   ]
  },
  {
   "cell_type": "code",
   "execution_count": 10,
   "metadata": {},
   "outputs": [],
   "source": [
    "predictions=classifier.predict(pred_test)"
   ]
  },
  {
   "cell_type": "code",
   "execution_count": 11,
   "metadata": {},
   "outputs": [
    {
     "data": {
      "text/plain": [
       "array([[  24,  747],\n",
       "       [ 166, 5593]])"
      ]
     },
     "execution_count": 11,
     "metadata": {},
     "output_type": "execute_result"
    }
   ],
   "source": [
    "sklearn.metrics.confusion_matrix(tar_test,predictions)\n"
   ]
  },
  {
   "cell_type": "code",
   "execution_count": 12,
   "metadata": {},
   "outputs": [
    {
     "name": "stdout",
     "output_type": "stream",
     "text": [
      "% of right prediction\n"
     ]
    },
    {
     "data": {
      "text/plain": [
       "0.8601837672281777"
      ]
     },
     "execution_count": 12,
     "metadata": {},
     "output_type": "execute_result"
    }
   ],
   "source": [
    "print('% of right prediction')\n",
    "sklearn.metrics.accuracy_score(tar_test,predictions)"
   ]
  },
  {
   "cell_type": "code",
   "execution_count": 3,
   "metadata": {},
   "outputs": [
    {
     "name": "stdout",
     "output_type": "stream",
     "text": [
      "the model predict the result with 0.873% of precision thus we can say that the model works well and can classify potential people with drugs problems appropriately.\n"
     ]
    }
   ],
   "source": [
    "print('the model predict the result with 0.873% of precision thus we can say that the model works well and can classify potential people with drugs problems appropriately.')"
   ]
  },
  {
   "cell_type": "code",
   "execution_count": 13,
   "metadata": {},
   "outputs": [],
   "source": [
    "## Display decision Tree\n",
    "#from sklearn import tree\n",
    "#from io import StringIO\n",
    "#from IPython.display import Image\n",
    "#out=StringIO()\n",
    "#tree.export_graphviz(classifier,out_file=out)\n",
    "#import pydotplus\n",
    "#graph=pydotplus.graph_from_dot_data(out.getvalue())\n",
    "#Image(graph.create_png())"
   ]
  },
  {
   "cell_type": "markdown",
   "metadata": {},
   "source": [
    "## Week 2"
   ]
  },
  {
   "cell_type": "code",
   "execution_count": 2,
   "metadata": {},
   "outputs": [],
   "source": [
    "from pandas import Series,DataFrame\n",
    "import pandas as pd\n",
    "import numpy as np\n",
    "import os \n",
    "import matplotlib.pylab as plt\n",
    "from sklearn.model_selection import train_test_split\n",
    "from sklearn.tree import DecisionTreeClassifier\n",
    "from sklearn.metrics import classification_report\n",
    "import sklearn.metrics\n",
    "#feature importance\n",
    "from sklearn import datasets\n",
    "from sklearn.ensemble import ExtraTreesClassifier"
   ]
  },
  {
   "cell_type": "code",
   "execution_count": 10,
   "metadata": {},
   "outputs": [],
   "source": [
    "#load dataset\n",
    "# RESPONSE     S3BQ1A6 EVER USED COCAINE OR CRACK\n",
    "#S2AQ21A HOW OFTEN DRANK ANY ALCOHOL DURING PERIOD OF HEAVIEST DRINKING\n",
    "#S1Q6A HIGHEST GRADE OR YEAR OF SCHOOL COMPLETED\n",
    "#S3AQ3C1 USUAL QUANTITY WHEN SMOKED CIGARETTES\n",
    "#S10Q1B60 EVER TROUBLE YOU OR CAUSE PROBLEMS AT WORK/SCHOOL OR WITH FAMILY/OTHER PEOPLE\n",
    "\n",
    "\n",
    "file=pd.read_csv('Alcohol.csv', sep=r'\\s*,\\s*',header=0, encoding='ascii', engine='python')\n",
    "\n"
   ]
  },
  {
   "cell_type": "code",
   "execution_count": 11,
   "metadata": {},
   "outputs": [],
   "source": [
    "#rename columns\n",
    "df=file[['S2AQ21A','S1Q6A','S3AQ3C1','S3BQ1A6','S10Q1B60']]\n",
    "df=df.rename(columns={'S2AQ21A':'drinks','S1Q6A':'school','S3AQ3C1':'cigarettes','S3BQ1A6':'drugs','S10Q1B60':'trouble'})"
   ]
  },
  {
   "cell_type": "code",
   "execution_count": 12,
   "metadata": {},
   "outputs": [],
   "source": [
    "#clean data\n",
    "df=df.dropna()\n",
    "df.drop(df.index[(df[\"cigarettes\"] == 99)|(df[\"drinks\"] == 99)|(df[\"trouble\"] == 9)|(df[\"drugs\"] == 9)],axis=0,inplace=True)"
   ]
  },
  {
   "cell_type": "code",
   "execution_count": 13,
   "metadata": {},
   "outputs": [],
   "source": [
    "#replace 2 with 0\n",
    "df[\"drugs\"].replace({2: 0}, inplace=True)\n",
    "df[\"trouble\"].replace({2: 0}, inplace=True)\n"
   ]
  },
  {
   "cell_type": "code",
   "execution_count": 14,
   "metadata": {},
   "outputs": [],
   "source": [
    "#predictors and target\n",
    "predictors=df[['drinks','school','cigarettes','trouble']]\n",
    "targets=df.drugs"
   ]
  },
  {
   "cell_type": "code",
   "execution_count": 15,
   "metadata": {},
   "outputs": [],
   "source": [
    "pred_train,pred_test,tar_train,tar_test=train_test_split(predictors,targets,test_size=0.4)"
   ]
  },
  {
   "cell_type": "code",
   "execution_count": 16,
   "metadata": {},
   "outputs": [],
   "source": [
    "#build a model on training dataset\n",
    "from sklearn.ensemble import RandomForestClassifier\n",
    "# n_estimators= number of trees\n",
    "classifier=RandomForestClassifier(n_estimators=25)\n",
    "classifier=classifier.fit(pred_train,tar_train)"
   ]
  },
  {
   "cell_type": "code",
   "execution_count": 17,
   "metadata": {},
   "outputs": [],
   "source": [
    "predictions=classifier.predict(pred_test)"
   ]
  },
  {
   "cell_type": "code",
   "execution_count": 21,
   "metadata": {},
   "outputs": [
    {
     "name": "stdout",
     "output_type": "stream",
     "text": [
      "confusion matrix\n"
     ]
    },
    {
     "data": {
      "text/plain": [
       "array([[5512,   69],\n",
       "       [ 762,   15]])"
      ]
     },
     "execution_count": 21,
     "metadata": {},
     "output_type": "execute_result"
    }
   ],
   "source": [
    "print('confusion matrix')\n",
    "sklearn.metrics.confusion_matrix(tar_test,predictions)"
   ]
  },
  {
   "cell_type": "code",
   "execution_count": 20,
   "metadata": {},
   "outputs": [
    {
     "name": "stdout",
     "output_type": "stream",
     "text": [
      "accurancy score\n"
     ]
    },
    {
     "data": {
      "text/plain": [
       "0.8692985215476565"
      ]
     },
     "execution_count": 20,
     "metadata": {},
     "output_type": "execute_result"
    }
   ],
   "source": [
    "print('accurancy score')\n",
    "sklearn.metrics.accuracy_score(tar_test,predictions)"
   ]
  },
  {
   "cell_type": "code",
   "execution_count": 23,
   "metadata": {},
   "outputs": [
    {
     "name": "stdout",
     "output_type": "stream",
     "text": [
      "relative importance of drinks,school,cigarettes,trouble as classifier\n",
      "[0.2886429  0.22501858 0.44111264 0.04522589]\n"
     ]
    }
   ],
   "source": [
    "#fit an Extra Trees model to the data\n",
    "model=ExtraTreesClassifier()\n",
    "model.fit(pred_train,tar_train)\n",
    "print('relative importance of drinks,school,cigarettes,trouble as classifier')\n",
    "print(model.feature_importances_)"
   ]
  },
  {
   "cell_type": "code",
   "execution_count": 28,
   "metadata": {},
   "outputs": [
    {
     "name": "stdout",
     "output_type": "stream",
     "text": [
      "running a different number of trees and see the effect of that on the accurancy of the prediction\n"
     ]
    },
    {
     "data": {
      "image/png": "[encoded data removed]",
      "text/plain": [
       "<Figure size 432x288 with 1 Axes>"
      ]
     },
     "metadata": {
      "needs_background": "light"
     },
     "output_type": "display_data"
    }
   ],
   "source": [
    "print('running a different number of trees and see the effect of that on the accurancy of the prediction')\n",
    "trees=range(25)\n",
    "accuracy=np.zeros(25)\n",
    "\n",
    "for idx in range(len(trees)):\n",
    "    classifier=RandomForestClassifier(n_estimators=idx+1)\n",
    "    classifier=classifier.fit(pred_train,tar_train)\n",
    "    predictions=classifier.predict(pred_test)\n",
    "    accuracy[idx]=sklearn.metrics.accuracy_score(tar_test,predictions)\n",
    "    \n",
    "plt.cla()\n",
    "plt.plot(trees,accuracy);"
   ]
  },
  {
   "cell_type": "code",
   "execution_count": 29,
   "metadata": {},
   "outputs": [
    {
     "name": "stdout",
     "output_type": "stream",
     "text": [
      "the accuracy is 0.8692985215476565 and the importance of each parameter is [0.2886429  0.22501858 0.44111264 0.04522589]. In the image is confronted the accuracy and the number of trees used\n"
     ]
    }
   ],
   "source": [
    "print('the accuracy is 0.8692985215476565 and the importance of each parameter is [0.2886429  0.22501858 0.44111264 0.04522589]. In the image is confronted the accuracy and the number of trees used')"
   ]
  },
  {
   "cell_type": "code",
   "execution_count": null,
   "metadata": {},
   "outputs": [],
   "source": []
  }
 ],
 "metadata": {
  "kernelspec": {
   "display_name": "Python 3",
   "language": "python",
   "name": "python3"
  },
  "language_info": {
   "codemirror_mode": {
    "name": "ipython",
    "version": 3
   },
   "file_extension": ".py",
   "mimetype": "text/x-python",
   "name": "python",
   "nbconvert_exporter": "python",
   "pygments_lexer": "ipython3",
   "version": "3.8.5"
  }
 },
 "nbformat": 4,
 "nbformat_minor": 4
}
